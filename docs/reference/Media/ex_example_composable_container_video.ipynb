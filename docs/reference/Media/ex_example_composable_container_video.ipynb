{
 "cells": [
  {
   "cell_type": "markdown",
   "id": "78709e1c",
   "metadata": {},
   "source": [
    "# example_composable_container_video"
   ]
  },
  {
   "cell_type": "code",
   "execution_count": null,
   "id": "975f15c0",
   "metadata": {},
   "outputs": [],
   "source": [
    "%%capture\n",
    "import bencher as bch\n",
    "from bencher.example.example_composable_container_image import BenchComposableContainerImage\n",
    "\n",
    "\n",
    "class BenchComposableContainerVideo(bch.ParametrizedSweep):\n",
    "    unequal_length = bch.BoolSweep()\n",
    "    compose_method = bch.EnumSweep(bch.ComposeType)\n",
    "    labels = bch.BoolSweep()\n",
    "    polygon_vid = bch.ResultVideo()\n",
    "\n",
    "    def __call__(self, **kwargs):\n",
    "        self.update_params_from_kwargs(**kwargs)\n",
    "        vr = bch.ComposableContainerVideo()\n",
    "        for i in range(3, 5):\n",
    "            num_frames = i * 10 if self.unequal_length else 5\n",
    "            res = BenchComposableContainerImage().__call__(\n",
    "                compose_method=bch.ComposeType.sequence, sides=i, num_frames=num_frames\n",
    "            )\n",
    "            vr.append(res[\"polygon_vid\"])\n",
    "\n",
    "        self.polygon_vid = vr.to_video(bch.RenderCfg(compose_method=kwargs.get(\"compose_method\")))\n",
    "        return self.get_results_values_as_dict()\n",
    "\n",
    "\n",
    "def example_composable_container_video(\n",
    "    run_cfg: bch.BenchRunCfg = None, report: bch.BenchReport = None\n",
    ") -> bch.Bench:\n",
    "    bench = BenchComposableContainerVideo().to_bench(run_cfg, report)\n",
    "\n",
    "    bench.result_vars = [\"polygon_vid\"]\n",
    "    bench.add_plot_callback(bch.BenchResult.to_panes)\n",
    "    bench.add_plot_callback(bch.BenchResult.to_video_grid, result_types=(bch.ResultVideo))\n",
    "    bench.add_plot_callback(bch.BenchResult.to_video_summary, result_types=(bch.ResultVideo))\n",
    "    bench.plot_sweep(input_vars=[\"compose_method\", \"labels\"], const_vars=dict(unequal_length=True))\n",
    "\n",
    "    res = bench.plot_sweep(\n",
    "        input_vars=[],\n",
    "        const_vars=dict(unequal_length=False, compose_method=bch.ComposeType.sequence),\n",
    "        plot_callbacks=False,\n",
    "    )\n",
    "\n",
    "    bench.report.append(res.to_video_grid())\n",
    "\n",
    "    return bench\n",
    "\n",
    "\n",
    "bench = example_composable_container_video()"
   ]
  },
  {
   "cell_type": "code",
   "execution_count": null,
   "id": "7abe1021",
   "metadata": {},
   "outputs": [],
   "source": [
    "from bokeh.io import output_notebook\n",
    "\n",
    "output_notebook()\n",
    "bench.get_result().to_auto_plots()"
   ]
  }
 ],
 "metadata": {},
 "nbformat": 4,
 "nbformat_minor": 5
}
