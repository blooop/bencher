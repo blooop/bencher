{
 "cells": [
  {
   "cell_type": "markdown",
   "id": "cf6369d0",
   "metadata": {},
   "source": [
    "# example_yaml_sweep_list"
   ]
  },
  {
   "cell_type": "code",
   "execution_count": null,
   "id": "32beacc8",
   "metadata": {},
   "outputs": [],
   "source": [
    "%%capture\n",
    "import bencher as bch\n",
    "from bencher.example.example_utils import resolve_example_path\n",
    "\n",
    "_YAML_PATH = resolve_example_path(\"example_yaml_sweep_list.yaml\")\n",
    "\n",
    "\n",
    "class YamlConfigSweep(bch.ParametrizedSweep):\n",
    "    \"\"\"Example sweep that aggregates YAML list entries into a single metric.\"\"\"\n",
    "\n",
    "    workload = bch.YamlSweep(\n",
    "        _YAML_PATH, doc=\"Workload lists stored in example_yaml_sweep_list.yaml\"\n",
    "    )\n",
    "\n",
    "    total_workload = bch.ResultVar(units=\"tasks\", doc=\"Total workload summed from the YAML list\")\n",
    "\n",
    "    def __call__(self, **kwargs):\n",
    "        self.update_params_from_kwargs(**kwargs)\n",
    "\n",
    "        self.total_workload = sum(self.workload.value())\n",
    "\n",
    "        return super().__call__()\n",
    "\n",
    "\n",
    "def example_yaml_sweep(\n",
    "    run_cfg: bch.BenchRunCfg = None, report: bch.BenchReport = None\n",
    ") -> bch.Bench:\n",
    "    bench = YamlConfigSweep().to_bench(name=\"yaml_sweep\", run_cfg=run_cfg, report=report)\n",
    "    bench.plot_sweep(\n",
    "        title=\"YAML workload sweep\",\n",
    "        input_vars=[YamlConfigSweep.param.workload],\n",
    "        result_vars=[YamlConfigSweep.param.total_workload],\n",
    "    )\n",
    "    return bench\n",
    "\n",
    "\n",
    "\n",
    "bench=example_yaml_sweep_list()\n"
   ]
  },
  {
   "cell_type": "code",
   "execution_count": null,
   "id": "f77534d1",
   "metadata": {},
   "outputs": [],
   "source": [
    "\n",
    "from bokeh.io import output_notebook\n",
    "output_notebook()\n",
    "bench.get_result().to_auto_plots()\n"
   ]
  }
 ],
 "metadata": {},
 "nbformat": 4,
 "nbformat_minor": 5
}
