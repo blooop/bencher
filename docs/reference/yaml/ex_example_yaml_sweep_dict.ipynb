{
 "cells": [
  {
   "cell_type": "markdown",
   "id": "d48aaf4c",
   "metadata": {},
   "source": [
    "# example_yaml_sweep_dict"
   ]
  },
  {
   "cell_type": "code",
   "execution_count": null,
   "id": "2b8bc3bb",
   "metadata": {},
   "outputs": [],
   "source": [
    "%%capture\n",
    "import bencher as bch\n",
    "from bencher.example.example_utils import resolve_example_path\n",
    "\n",
    "_YAML_PATH = resolve_example_path(\"example_yaml_sweep_dict.yaml\")\n",
    "\n",
    "\n",
    "class YamlDictConfig(bch.ParametrizedSweep):\n",
    "    \"\"\"Example sweep that loads YAML dictionaries and summarizes them.\"\"\"\n",
    "\n",
    "    plan = bch.YamlSweep(_YAML_PATH, doc=\"Dictionary-based configurations stored in YAML\")\n",
    "\n",
    "    plan_summary = bch.ResultContainer(doc=\"Captured dictionary for the selected plan\")\n",
    "    total_duration = bch.ResultVar(units=\"min\", doc=\"Sum of all scheduled durations\")\n",
    "    average_duration = bch.ResultVar(units=\"min\", doc=\"Average scheduled duration\")\n",
    "\n",
    "    def __call__(self, **kwargs):\n",
    "        self.update_params_from_kwargs(**kwargs)\n",
    "\n",
    "        key, config = self.plan\n",
    "        durations = config.get(\"durations\", [])\n",
    "        total = sum(durations)\n",
    "        count = len(durations) or 1\n",
    "\n",
    "        self.total_duration = total\n",
    "        self.average_duration = total / count\n",
    "        self.plan_summary = {\n",
    "            \"plan\": key,\n",
    "            \"label\": config.get(\"label\", \"\"),\n",
    "            \"durations\": list(durations),\n",
    "            \"resources\": dict(config.get(\"resources\", {})),\n",
    "        }\n",
    "\n",
    "        return super().__call__()\n",
    "\n",
    "\n",
    "def example_yaml_sweep_dict(run_cfg: bch.BenchRunCfg | None = None) -> bch.Bench:\n",
    "    bench = YamlDictConfig().to_bench(run_cfg)\n",
    "    bench.plot_sweep()\n",
    "    return bench\n",
    "\n",
    "\n",
    "\n",
    "bench=example_yaml_sweep_dict()\n"
   ]
  },
  {
   "cell_type": "code",
   "execution_count": null,
   "id": "3be950f4",
   "metadata": {},
   "outputs": [],
   "source": [
    "\n",
    "from bokeh.io import output_notebook\n",
    "output_notebook()\n",
    "bench.get_result().to_auto_plots()\n"
   ]
  }
 ],
 "metadata": {},
 "nbformat": 4,
 "nbformat_minor": 5
}
