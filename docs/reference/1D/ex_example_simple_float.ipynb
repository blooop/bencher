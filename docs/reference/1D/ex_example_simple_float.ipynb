{
 "cells": [
  {
   "cell_type": "markdown",
   "id": "674e795d",
   "metadata": {},
   "source": [
    "# example_simple_float"
   ]
  },
  {
   "cell_type": "code",
   "execution_count": null,
   "id": "f1cb2fcb",
   "metadata": {},
   "outputs": [],
   "source": [
    "%%capture\n",
    "\"\"\"This file has some examples for how to perform basic benchmarking parameter sweeps\"\"\"\n",
    "\n",
    "import math\n",
    "import bencher as bch\n",
    "\n",
    "\n",
    "class SimpleFloat(bch.ParametrizedSweep):\n",
    "    theta = bch.FloatSweep(\n",
    "        default=0, bounds=[0, math.pi], doc=\"Input angle\", units=\"rad\", samples=30\n",
    "    )\n",
    "    out_sin = bch.ResultVar(units=\"v\", doc=\"sin of theta\")\n",
    "\n",
    "    def __call__(self, **kwargs):\n",
    "        self.update_params_from_kwargs(**kwargs)\n",
    "        self.out_sin = math.sin(self.theta)\n",
    "        return super().__call__(**kwargs)\n",
    "\n",
    "\n",
    "def example_simple_float(\n",
    "    run_cfg: bch.BenchRunCfg = None, report: bch.BenchReport = None\n",
    ") -> bch.Bench:\n",
    "    \"\"\"This example shows how to sample a 1 dimensional float variable and plot the result of passing that parameter sweep to the benchmarking function\"\"\"\n",
    "\n",
    "    bench = SimpleFloat().to_bench(run_cfg, report)\n",
    "    bench.plot_sweep()\n",
    "    return bench\n",
    "\n",
    "\n",
    "\n",
    "bench=example_simple_float()\n"
   ]
  },
  {
   "cell_type": "code",
   "execution_count": null,
   "id": "12df8578",
   "metadata": {},
   "outputs": [],
   "source": [
    "\n",
    "from bokeh.io import output_notebook\n",
    "output_notebook()\n",
    "bench.get_result().to_auto_plots()\n"
   ]
  }
 ],
 "metadata": {},
 "nbformat": 4,
 "nbformat_minor": 5
}