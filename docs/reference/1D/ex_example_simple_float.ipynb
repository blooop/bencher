{
 "cells": [
  {
   "cell_type": "markdown",
   "id": "a3df1579",
   "metadata": {},
   "source": [
    "# example_simple_float"
   ]
  },
  {
   "cell_type": "code",
   "execution_count": null,
   "id": "f769cc49",
   "metadata": {},
   "outputs": [],
   "source": [
    "%%capture\n",
    "\"\"\"This file has some examples for how to perform basic benchmarking parameter sweeps\"\"\"\n",
    "\n",
    "import math\n",
    "import bencher as bch\n",
    "\n",
    "\n",
    "class SimpleFloat(bch.ParametrizedSweep):\n",
    "    theta = bch.FloatSweep(\n",
    "        default=0, bounds=[0, math.pi], doc=\"Input angle\", units=\"rad\", samples=30\n",
    "    )\n",
    "    out_sin = bch.ResultVar(units=\"v\", doc=\"sin of theta\")\n",
    "\n",
    "    def __call__(self, **kwargs):\n",
    "        self.update_params_from_kwargs(**kwargs)\n",
    "        self.out_sin = math.sin(self.theta)\n",
    "        return super().__call__(**kwargs)\n",
    "\n",
    "\n",
    "def example_simple_float(\n",
    "    run_cfg: bch.BenchRunCfg = None, report: bch.BenchReport = None\n",
    ") -> bch.Bench:\n",
    "    \"\"\"This example shows how to sample a 1 dimensional float variable and plot the result of passing that parameter sweep to the benchmarking function\"\"\"\n",
    "\n",
    "    bench = SimpleFloat().to_bench(run_cfg, report)\n",
    "    bench.plot_sweep()\n",
    "    return bench\n",
    "\n",
    "\n",
    "bench = example_simple_float()"
   ]
  },
  {
   "cell_type": "code",
   "execution_count": null,
   "id": "2fce53f4",
   "metadata": {},
   "outputs": [],
   "source": [
    "from bokeh.io import output_notebook\n",
    "\n",
    "output_notebook()\n",
    "bench.get_result().to_auto_plots()"
   ]
  }
 ],
 "metadata": {},
 "nbformat": 4,
 "nbformat_minor": 5
}
