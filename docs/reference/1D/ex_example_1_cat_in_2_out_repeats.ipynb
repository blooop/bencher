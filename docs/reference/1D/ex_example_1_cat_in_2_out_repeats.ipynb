{
 "cells": [
  {
   "cell_type": "markdown",
   "id": "a53ccd10",
   "metadata": {},
   "source": [
    "# example_1_cat_in_2_out_repeats"
   ]
  },
  {
   "cell_type": "code",
   "execution_count": null,
   "id": "9445510a",
   "metadata": {},
   "outputs": [],
   "source": [
    "%%capture\n",
    "import random\n",
    "import bencher as bch\n",
    "\n",
    "random.seed(0)\n",
    "\n",
    "class ExampleCat1D(bch.ParametrizedSweep):\n",
    "    population = bch.StringSweep([\"population1\", \"population2\"], doc=\"Distribution to sample from\")\n",
    "    age= bch.ResultVar(units=\"v\", doc=\"sin of theta\")\n",
    "    children= bch.ResultVar(units=\"v\", doc=\"sin of theta\")\n",
    "\n",
    "    def __call__(self, **kwargs):\n",
    "        self.update_params_from_kwargs(**kwargs)\n",
    "\n",
    "        if self.population == \"population1\":\n",
    "            self.age= random.gauss(mu=50.0,sigma=10.0)\n",
    "            self.children= random.gauss(mu=1.5)\n",
    "        else:\n",
    "            self.age= random.gauss(mu=60,sigma=20)\n",
    "            self.children= random.gauss(mu=3.)\n",
    "\n",
    "        return super().__call__(**kwargs)\n",
    "\n",
    "\n",
    "def example_1_cat_in_2_out_repeats(\n",
    "    run_cfg: bch.BenchRunCfg = None, report: bch.BenchReport = None\n",
    ") -> bch.Bench:\n",
    "    \"\"\"This example shows how to sample a 1 dimensional float variable and plot the result of passing that parameter sweep to the benchmarking function\"\"\"\n",
    "\n",
    "    if run_cfg is None:\n",
    "        run_cfg = bch.BenchRunCfg()\n",
    "    run_cfg.repeats = 20\n",
    "    bench = ExampleCat1D().to_bench(run_cfg, report)\n",
    "    bench.plot_sweep()\n",
    "    return bench\n",
    "\n",
    "\n",
    "\n",
    "bench=example_1_cat_in_2_out_repeats()\n"
   ]
  },
  {
   "cell_type": "code",
   "execution_count": null,
   "id": "762d2b4d",
   "metadata": {},
   "outputs": [],
   "source": [
    "\n",
    "from bokeh.io import output_notebook\n",
    "output_notebook()\n",
    "bench.get_result().to_auto_plots()\n"
   ]
  }
 ],
 "metadata": {},
 "nbformat": 4,
 "nbformat_minor": 5
}