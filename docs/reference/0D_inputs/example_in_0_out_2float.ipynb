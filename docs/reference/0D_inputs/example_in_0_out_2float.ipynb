{
 "cells": [
  {
   "cell_type": "markdown",
   "metadata": {},
   "source": [
    "# Example 0 Float input and 2 Float output"
   ]
  },
  {
   "cell_type": "code",
   "execution_count": null,
   "metadata": {},
   "outputs": [
    {
     "ename": "",
     "evalue": "",
     "output_type": "error",
     "traceback": [
      "\u001b[1;31mRunning cells with 'Python 3.10.12' requires the ipykernel package.\n",
      "\u001b[1;31mRun the following command to install 'ipykernel' into the Python environment. \n",
      "\u001b[1;31mCommand: '/bin/python3 -m pip install ipykernel -U --user --force-reinstall'"
     ]
    }
   ],
   "source": [
    "%%capture\n",
    "import bencher as bch\n",
    "import random\n",
    "from bokeh.io import output_notebook\n",
    "\n",
    "\n",
    "class SimpleFloat0D(bch.ParametrizedSweep):\n",
    "    \"\"\"This class has 0 input dimensions and 1 output dimensions.  It samples from a gaussian distribution\"\"\"\n",
    "\n",
    "    # This defines a variable that we want to plot\n",
    "    output = bch.ResultVar(units=\"ul\", doc=\"a sample from a gaussian distribution\")\n",
    "    output2 = bch.ResultVar(units=\"ul\", doc=\"a sample from a gaussian distribution\")\n",
    "\n",
    "    def __call__(self, **kwargs) -> dict:\n",
    "        self.update_params_from_kwargs(**kwargs)\n",
    "        self.output = random.gauss(mu=0.0, sigma=1.0)\n",
    "        self.output2 = random.gauss(mu=5.0, sigma=3.0)\n",
    "        return super().__call__(**kwargs)\n",
    "\n",
    "\n",
    "bench = SimpleFloat0D().to_bench(bch.BenchRunCfg(repeats=100))\n",
    "res = bench.plot_sweep(\"title\")"
   ]
  },
  {
   "cell_type": "code",
   "execution_count": null,
   "metadata": {},
   "outputs": [
    {
     "ename": "",
     "evalue": "",
     "output_type": "error",
     "traceback": [
      "\u001b[1;31mRunning cells with 'Python 3.10.12' requires the ipykernel package.\n",
      "\u001b[1;31mRun the following command to install 'ipykernel' into the Python environment. \n",
      "\u001b[1;31mCommand: '/bin/python3 -m pip install ipykernel -U --user --force-reinstall'"
     ]
    }
   ],
   "source": [
    "output_notebook()\n",
    "res.to_auto_plots()"
   ]
  },
  {
   "cell_type": "code",
   "execution_count": null,
   "metadata": {},
   "outputs": [],
   "source": []
  }
 ],
 "metadata": {
  "kernelspec": {
   "display_name": "Python 3",
   "name": "python3"
  },
  "language_info": {
   "name": "python",
   "version": "3.10.12"
  }
 },
 "nbformat": 4,
 "nbformat_minor": 4
}
