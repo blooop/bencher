{
 "cells": [
  {
   "cell_type": "markdown",
   "id": "4a80cea4",
   "metadata": {},
   "source": [
    "# example_1_in_2_out"
   ]
  },
  {
   "cell_type": "code",
   "execution_count": null,
   "id": "952b9603",
   "metadata": {},
   "outputs": [],
   "source": [
    "%%capture\n",
    "import bencher as bch\n",
    "from bencher.example.inputs_1D.example1d_common import Example1D, ex\n",
    "\n",
    "\n",
    "def example_1_in_2_out(\n",
    "    run_cfg: bch.BenchRunCfg = None, report: bch.BenchReport = None\n",
    ") -> bch.Bench:\n",
    "    \"\"\"This example shows how to sample a 1 dimensional float variable and plot the result of passing that parameter sweep to the benchmarking function\"\"\"\n",
    "    bench = Example1D().to_bench(run_cfg, report)\n",
    "    bench.plot_sweep()\n",
    "\n",
    "    # bench.report.append(bench.get_result().to_heatmap())\n",
    "    return bench\n",
    "\n",
    "\n",
    "\n",
    "bench=example_1_in_2_out()\n"
   ]
  },
  {
   "cell_type": "code",
   "execution_count": null,
   "id": "613d4b46",
   "metadata": {},
   "outputs": [],
   "source": [
    "\n",
    "from bokeh.io import output_notebook\n",
    "output_notebook()\n",
    "bench.get_result().to_auto_plots()\n"
   ]
  }
 ],
 "metadata": {},
 "nbformat": 4,
 "nbformat_minor": 5
}