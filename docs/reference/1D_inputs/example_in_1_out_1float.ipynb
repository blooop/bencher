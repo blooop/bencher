{
 "cells": [
  {
   "cell_type": "markdown",
   "metadata": {},
   "source": [
    "# Example 1 Float input and 1 Float output\n"
   ]
  },
  {
   "cell_type": "code",
   "execution_count": 1,
   "metadata": {},
   "outputs": [],
   "source": [
    "%%capture\n",
    "import bencher as bch\n",
    "\n",
    "from bokeh.io import output_notebook\n",
    "\n",
    "\n",
    "class DataSource:\n",
    "    def __init__(self):\n",
    "        self.data = [\n",
    "            [0, 0, 0, 0],\n",
    "            [1, 1, 1, 1],\n",
    "            [1, 1, 1, 1],\n",
    "            [2, 1, 1, 0],\n",
    "            [2, 2, 0, 0],\n",
    "            [2, 2, 1, 1],\n",
    "        ]\n",
    "\n",
    "    def call(self, index, repeat):\n",
    "        return self.data[index][repeat - 1]\n",
    "\n",
    "\n",
    "class Example1D(bch.ParametrizedSweep):\n",
    "    index = bch.IntSweep(default=0, bounds=[0, 5], doc=\"Input angle\", units=\"rad\", samples=30)\n",
    "    output = bch.ResultVar(units=\"v\", doc=\"sin of theta\")\n",
    "\n",
    "    def __call__(self, **kwargs):\n",
    "        self.update_params_from_kwargs(**kwargs)\n",
    "        self.output = DataSource().call(self.index, kwargs[\"repeat\"])\n",
    "        return super().__call__(**kwargs)\n",
    "\n",
    "\n",
    "run_cfg = bch.BenchRunCfg(repeats=4)\n",
    "bench = Example1D().to_bench(run_cfg)\n",
    "res = bench.plot_sweep(pass_repeat=True)"
   ]
  },
  {
   "cell_type": "code",
   "execution_count": null,
   "metadata": {},
   "outputs": [],
   "source": [
    "output_notebook()\n",
    "res.to_auto_plots()"
   ]
  },
  {
   "cell_type": "code",
   "execution_count": null,
   "metadata": {},
   "outputs": [],
   "source": [
    "res.to_line()"
   ]
  },
  {
   "cell_type": "code",
   "execution_count": null,
   "metadata": {},
   "outputs": [],
   "source": [
    "res.to_scatter()"
   ]
  }
 ],
 "metadata": {
  "kernelspec": {
   "display_name": "default",
   "language": "python",
   "name": "python3"
  },
  "language_info": {
   "codemirror_mode": {
    "name": "ipython",
    "version": 3
   },
   "file_extension": ".py",
   "mimetype": "text/x-python",
   "name": "python",
   "nbconvert_exporter": "python",
   "pygments_lexer": "ipython3",
   "version": "3.10.16"
  }
 },
 "nbformat": 4,
 "nbformat_minor": 4
}
