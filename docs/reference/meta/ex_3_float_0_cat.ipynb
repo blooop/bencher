{
 "cells": [
  {
   "cell_type": "markdown",
<<<<<<< HEAD
   "id": "afb30738",
=======
   "id": "4e4728e2",
>>>>>>> feature/two_results
   "metadata": {},
   "source": [
    "# 3_float_0_cat"
   ]
  },
  {
   "cell_type": "code",
   "execution_count": null,
<<<<<<< HEAD
   "id": "a38d2b0f",
=======
   "id": "419b6b0c",
>>>>>>> feature/two_results
   "metadata": {},
   "outputs": [],
   "source": [
    "\n",
    "%%capture\n",
    "import bencher as bch\n",
    "from bencher.example.meta.example_meta import BenchableObject\n",
    "\n",
    "run_cfg = bch.BenchRunCfg()\n",
    "run_cfg.repeats = 20\n",
    "run_cfg.level = 4 \n",
    "bench = BenchableObject().to_bench(run_cfg)\n",
    "res=bench.plot_sweep(input_vars=['float1', 'float2', 'float3'],\n",
    "                    result_vars=[\"distance\",\"sample_noise\"])\n"
   ]
  },
  {
   "cell_type": "code",
   "execution_count": null,
<<<<<<< HEAD
   "id": "d7ad9bdf",
=======
   "id": "9190b6dd",
>>>>>>> feature/two_results
   "metadata": {},
   "outputs": [],
   "source": [
    "\n",
    "from bokeh.io import output_notebook\n",
    "output_notebook()\n",
    "res.to_auto_plots()\n"
   ]
  }
 ],
 "metadata": {},
 "nbformat": 4,
 "nbformat_minor": 5
}