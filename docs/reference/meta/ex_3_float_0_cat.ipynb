{
   "cells": [
      {
         "cell_type": "markdown",
         "id": "8c5692aa",
         "metadata": {},
         "source": [
            "# 3_float_0_cat"
         ]
      },
      {
         "cell_type": "code",
         "execution_count": null,
         "id": "bd06b187",
         "metadata": {},
         "outputs": [],
         "source": [
            "%%capture\n",
            "import bencher as bch\n",
            "from bencher.example.meta.example_meta import BenchableObject\n",
            "\n",
            "bench = BenchableObject().to_bench(bch.BenchRunCfg(over_time=True))\n",
            "res = bench.plot_sweep(input_vars=[\"float1\", \"float2\", \"float3\"], result_vars=[\"distance\"])"
         ]
      },
      {
         "cell_type": "code",
         "execution_count": null,
         "id": "7b8d9b4a",
         "metadata": {},
         "outputs": [],
         "source": [
            "from bokeh.io import output_notebook\n",
            "\n",
            "output_notebook()\n",
            "res.to_auto_plots()"
         ]
      }
   ],
   "metadata": {},
   "nbformat": 4,
   "nbformat_minor": 5
}