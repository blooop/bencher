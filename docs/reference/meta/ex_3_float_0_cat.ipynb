{
 "cells": [
  {
   "cell_type": "markdown",
   "id": "904a99e0",
   "metadata": {},
   "source": [
    "# 3_float_0_cat"
   ]
  },
  {
   "cell_type": "code",
   "execution_count": null,
   "id": "97a9830f",
   "metadata": {},
   "outputs": [],
   "source": [
    "%%capture\n",
    "import bencher as bch\n",
    "\n",
    "from bencher.example.meta.example_meta import BenchableObject\n",
    "\n",
    "run_cfg = bch.BenchRunCfg()\n",
    "run_cfg.repeats = 1\n",
    "run_cfg.level = 4\n",
    "bench = BenchableObject().to_bench(run_cfg)\n",
    "res = bench.plot_sweep(\n",
    "    input_vars=[\n",
    "        \"float1\",\n",
    "        \"float2\",\n",
    "        {\"name\": \"float3\", \"values\": None, \"max_level\": 3, \"samples\": None},\n",
    "    ],\n",
    "    result_vars=[\"distance\", \"sample_noise\", \"is_far_from_origin\"],\n",
    ")"
   ]
  },
  {
   "cell_type": "code",
   "execution_count": null,
   "id": "164db14a",
   "metadata": {},
   "outputs": [],
   "source": [
    "from bokeh.io import output_notebook\n",
    "\n",
    "output_notebook()\n",
    "res.to_auto_plots()"
   ]
  }
 ],
 "metadata": {},
 "nbformat": 4,
 "nbformat_minor": 5
}