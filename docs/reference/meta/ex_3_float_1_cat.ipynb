{
 "cells": [
  {
   "cell_type": "markdown",
   "id": "1af1d26c",
   "metadata": {},
   "source": [
    "# 3_float_1_cat"
   ]
  },
  {
   "cell_type": "code",
   "execution_count": null,
   "id": "19dcf9f6",
   "metadata": {},
   "outputs": [],
   "source": [
    "\n",
    "%%capture\n",
    "import bencher as bch\n",
    "from bencher.example.meta.example_meta import BenchableObject\n",
    "\n",
    "bench = BenchableObject().to_bench(bch.BenchRunCfg())\n",
    "res=bench.plot_sweep(input_vars=['float1', 'float2', 'float3', 'noisy'],result_vars=[\"distance\",\"sample_noise\"])\n"
   ]
  },
  {
   "cell_type": "code",
   "execution_count": null,
   "id": "067409f7",
   "metadata": {},
   "outputs": [],
   "source": [
    "\n",
    "from bokeh.io import output_notebook\n",
    "output_notebook()\n",
    "res.to_auto_plots()\n"
   ]
  }
 ],
 "metadata": {},
 "nbformat": 4,
 "nbformat_minor": 5
}