{
 "cells": [
  {
   "cell_type": "markdown",
   "id": "f5f3da45",
   "metadata": {},
   "source": [
    "# 1_float_0_cat"
   ]
  },
  {
   "cell_type": "code",
   "execution_count": null,
   "id": "9c118dd8",
   "metadata": {},
   "outputs": [],
   "source": [
    "\n",
    "%%capture\n",
    "import bencher as bch\n",
    "from bencher.example.meta.example_meta import BenchableObject\n",
    "\n",
    "bench = BenchableObject().to_bench(bch.BenchRunCfg())\n",
    "res=bench.plot_sweep(input_vars=['float1'],result_vars=[\"distance\"])\n"
   ]
  },
  {
   "cell_type": "code",
   "execution_count": null,
   "id": "34727bfb",
   "metadata": {},
   "outputs": [],
   "source": [
    "\n",
    "from bokeh.io import output_notebook\n",
    "output_notebook()\n",
    "res.to_auto_plots()\n"
   ]
  }
 ],
 "metadata": {},
 "nbformat": 4,
 "nbformat_minor": 5
}