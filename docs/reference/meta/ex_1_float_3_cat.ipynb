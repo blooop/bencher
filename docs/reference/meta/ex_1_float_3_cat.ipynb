{
 "cells": [
  {
   "cell_type": "markdown",
   "id": "47a76c70",
   "metadata": {},
   "source": [
    "# 1_float_3_cat"
   ]
  },
  {
   "cell_type": "code",
   "execution_count": null,
   "id": "ea2bd193",
   "metadata": {},
   "outputs": [],
   "source": [
    "\n",
    "%%capture\n",
    "import bencher as bch\n",
    "from bencher.example.meta.example_meta import BenchableObject\n",
    "\n",
    "bench = BenchableObject().to_bench(bch.BenchRunCfg(over_time=True))\n",
    "res=bench.plot_sweep(input_vars=['float1', 'noisy', 'noise_distribution', 'negate_output'],result_vars=[\"distance\"])\n"
   ]
  },
  {
   "cell_type": "code",
   "execution_count": null,
   "id": "cb7804bb",
   "metadata": {},
   "outputs": [],
   "source": [
    "\n",
    "from bokeh.io import output_notebook\n",
    "output_notebook()\n",
    "res.to_auto_plots()\n"
   ]
  }
 ],
 "metadata": {},
 "nbformat": 4,
 "nbformat_minor": 5
}