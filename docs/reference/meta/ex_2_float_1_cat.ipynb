{
 "cells": [
  {
   "cell_type": "markdown",
   "id": "0daefe3b",
   "metadata": {},
   "source": [
    "# 2_float_1_cat"
   ]
  },
  {
   "cell_type": "code",
   "execution_count": null,
   "id": "d68dd598",
   "metadata": {},
   "outputs": [],
   "source": [
    "%%capture\n",
    "import bencher as bch\n",
    "from bencher.example.meta.example_meta import BenchableObject\n",
    "\n",
    "bench = BenchableObject().to_bench(bch.BenchRunCfg())\n",
    "res = bench.plot_sweep(input_vars=[\"float1\", \"float2\", \"noisy\"], result_vars=[\"distance\"])"
   ]
  },
  {
   "cell_type": "code",
   "execution_count": null,
   "id": "deb625f9",
   "metadata": {},
   "outputs": [],
   "source": [
    "from bokeh.io import output_notebook\n",
    "\n",
    "output_notebook()\n",
    "res.to_auto_plots()"
   ]
  }
 ],
 "metadata": {},
 "nbformat": 4,
 "nbformat_minor": 5
}
