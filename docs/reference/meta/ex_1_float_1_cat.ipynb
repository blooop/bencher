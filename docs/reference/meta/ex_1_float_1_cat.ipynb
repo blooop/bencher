{
 "cells": [
  {
   "cell_type": "markdown",
   "id": "fab46760",
   "metadata": {},
   "source": [
    "# 1_float_1_cat"
   ]
  },
  {
   "cell_type": "code",
   "execution_count": null,
   "id": "beca6078",
   "metadata": {},
   "outputs": [],
   "source": [
    "\n",
    "%%capture\n",
    "import bencher as bch\n",
    "from bencher.example.meta.example_meta import BenchableObject\n",
    "\n",
    "bench = BenchableObject().to_bench(bch.BenchRunCfg())\n",
    "res=bench.plot_sweep(input_vars=['float1', 'noisy'],result_vars=[\"distance\"])\n"
   ]
  },
  {
   "cell_type": "code",
   "execution_count": null,
   "id": "065aa883",
   "metadata": {},
   "outputs": [],
   "source": [
    "\n",
    "from bokeh.io import output_notebook\n",
    "output_notebook()\n",
    "res.to_auto_plots()\n"
   ]
  }
 ],
 "metadata": {},
 "nbformat": 4,
 "nbformat_minor": 5
}
