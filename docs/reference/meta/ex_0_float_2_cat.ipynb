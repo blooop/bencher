{
   "cells": [
      {
         "cell_type": "markdown",
         "id": "82674b8d",
         "metadata": {},
         "source": [
            "# 0_float_2_cat"
         ]
      },
      {
         "cell_type": "code",
         "execution_count": null,
         "id": "d7377a9c",
         "metadata": {},
         "outputs": [],
         "source": [
            "%%capture\n",
            "import bencher as bch\n",
            "from bencher.example.meta.example_meta import BenchableObject\n",
            "\n",
            "bench = BenchableObject().to_bench(bch.BenchRunCfg(over_time=True))\n",
            "res = bench.plot_sweep(input_vars=[\"noisy\", \"noise_distribution\"], result_vars=[\"distance\"])"
         ]
      },
      {
         "cell_type": "code",
         "execution_count": null,
         "id": "6db13a2a",
         "metadata": {},
         "outputs": [],
         "source": [
            "from bokeh.io import output_notebook\n",
            "\n",
            "output_notebook()\n",
            "res.to_auto_plots()"
         ]
      }
   ],
   "metadata": {},
   "nbformat": 4,
   "nbformat_minor": 5
}
