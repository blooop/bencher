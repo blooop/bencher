{
 "cells": [
  {
   "cell_type": "markdown",
   "id": "1fd0fbfd",
   "metadata": {},
   "source": [
    "# 0_float_2_cat"
   ]
  },
  {
   "cell_type": "code",
   "execution_count": null,
   "id": "986d0fd1",
   "metadata": {},
   "outputs": [],
   "source": [
    "\n",
    "%%capture\n",
    "import bencher as bch\n",
    "from bencher.example.meta.example_meta import BenchableObject\n",
    "\n",
    "bench = BenchableObject().to_bench(bch.BenchRunCfg())\n",
    "res=bench.plot_sweep(input_vars=['noisy', 'noise_distribution'],result_vars=[\"distance\",\"sample_noise\"])\n"
   ]
  },
  {
   "cell_type": "code",
   "execution_count": null,
   "id": "e2941dc3",
   "metadata": {},
   "outputs": [],
   "source": [
    "\n",
    "from bokeh.io import output_notebook\n",
    "output_notebook()\n",
    "res.to_auto_plots()\n"
   ]
  }
 ],
 "metadata": {},
 "nbformat": 4,
 "nbformat_minor": 5
}