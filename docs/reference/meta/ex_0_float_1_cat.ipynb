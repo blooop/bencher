{
 "cells": [
  {
   "cell_type": "markdown",
   "id": "23b8a2e2",
   "metadata": {},
   "source": [
    "# 0_float_1_cat"
   ]
  },
  {
   "cell_type": "code",
   "execution_count": null,
   "id": "a5dc939e",
   "metadata": {},
   "outputs": [],
   "source": [
    "%%capture\n",
    "import bencher as bch\n",
    "\n",
    "from bencher.example.meta.example_meta import BenchableObject\n",
    "\n",
    "run_cfg = bch.BenchRunCfg()\n",
    "run_cfg.repeats = 20\n",
    "run_cfg.level = 4\n",
    "bench = BenchableObject().to_bench(run_cfg)\n",
    "res = bench.plot_sweep(\n",
    "    input_vars=[\"noisy\"], result_vars=[\"distance\", \"sample_noise\", \"is_far_from_origin\"]\n",
    ")"
   ]
  },
  {
   "cell_type": "code",
   "execution_count": null,
   "id": "d867a871",
   "metadata": {},
   "outputs": [],
   "source": [
    "from bokeh.io import output_notebook\n",
    "\n",
    "output_notebook()\n",
    "res.to_auto_plots()"
   ]
  }
 ],
 "metadata": {},
 "nbformat": 4,
 "nbformat_minor": 5
}
