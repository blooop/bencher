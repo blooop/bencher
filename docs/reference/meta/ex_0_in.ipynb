{
 "cells": [
  {
   "cell_type": "markdown",
   "id": "504c26be",
   "metadata": {},
   "source": [
    "# 0_in"
   ]
  },
  {
   "cell_type": "code",
   "execution_count": null,
   "id": "ddb39160",
   "metadata": {},
   "outputs": [],
   "source": [
    "\n",
    "\n",
    "import bencher as bch\n",
    "from bencher.example.meta.example_meta import BenchMeta\n",
    "\n",
    "bench = BenchMeta().to_bench(bch.BenchRunCfg())\n",
    "bench.plot_sweep(input_vars=[], const_vars=dict(float_vars=2,level=5))\n",
    "bench.report.show()\n"
   ]
  }
 ],
 "metadata": {},
 "nbformat": 4,
 "nbformat_minor": 5
}
