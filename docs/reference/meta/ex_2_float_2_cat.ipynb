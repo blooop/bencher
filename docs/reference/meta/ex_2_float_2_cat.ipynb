{
   "cells": [
      {
         "cell_type": "markdown",
         "id": "dfa75e21",
         "metadata": {},
         "source": [
            "# 2_float_2_cat"
         ]
      },
      {
         "cell_type": "code",
         "execution_count": null,
         "id": "4dc9751d",
         "metadata": {},
         "outputs": [],
         "source": [
            "%%capture\n",
            "import bencher as bch\n",
            "from bencher.example.meta.example_meta import BenchableObject\n",
            "\n",
            "bench = BenchableObject().to_bench(bch.BenchRunCfg(over_time=True))\n",
            "res = bench.plot_sweep(\n",
            "    input_vars=[\"float1\", \"float2\", \"noisy\", \"noise_distribution\"],\n",
            "    result_vars=[\"distance\", \"sample_noise\"],\n",
            ")"
         ]
      },
      {
         "cell_type": "code",
         "execution_count": null,
         "id": "604f7e55",
         "metadata": {},
         "outputs": [],
         "source": [
            "from bokeh.io import output_notebook\n",
            "\n",
            "output_notebook()\n",
            "res.to_auto_plots()"
         ]
      }
   ],
   "metadata": {},
   "nbformat": 4,
   "nbformat_minor": 5
}
