{
 "cells": [
  {
   "cell_type": "markdown",
   "id": "24eed04a",
   "metadata": {},
   "source": [
    "# 2_float_2_cat"
   ]
  },
  {
   "cell_type": "code",
   "execution_count": null,
   "id": "6b721db5",
   "metadata": {},
   "outputs": [],
   "source": [
    "%%capture\n",
    "import bencher as bch\n",
    "from bencher.example.meta.example_meta import BenchableObject\n",
    "\n",
    "bench = BenchableObject().to_bench(bch.BenchRunCfg())\n",
    "res = bench.plot_sweep(\n",
    "    input_vars=[\"float1\", \"float2\", \"noisy\", \"noise_distribution\"], result_vars=[\"distance\"]\n",
    ")"
   ]
  },
  {
   "cell_type": "code",
   "execution_count": null,
   "id": "58427b12",
   "metadata": {},
   "outputs": [],
   "source": [
    "from bokeh.io import output_notebook\n",
    "\n",
    "output_notebook()\n",
    "res.to_auto_plots()"
   ]
  }
 ],
 "metadata": {},
 "nbformat": 4,
 "nbformat_minor": 5
}
