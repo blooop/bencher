{
   "cells": [
      {
         "cell_type": "markdown",
         "id": "82e2fcd6",
         "metadata": {},
         "source": [
            "# 3_float_3_cat"
         ]
      },
      {
         "cell_type": "code",
         "execution_count": null,
         "id": "a0fbf966",
         "metadata": {},
         "outputs": [],
         "source": [
            "%%capture\n",
            "import bencher as bch\n",
            "from bencher.example.meta.example_meta import BenchableObject\n",
            "\n",
            "bench = BenchableObject().to_bench(bch.BenchRunCfg(over_time=True))\n",
            "res = bench.plot_sweep(\n",
            "    input_vars=[\"float1\", \"float2\", \"float3\", \"noisy\", \"noise_distribution\", \"negate_output\"],\n",
            "    result_vars=[\"distance\", \"sample_noise\"],\n",
            ")"
         ]
      },
      {
         "cell_type": "code",
         "execution_count": null,
         "id": "afcf153c",
         "metadata": {},
         "outputs": [],
         "source": [
            "from bokeh.io import output_notebook\n",
            "\n",
            "output_notebook()\n",
            "res.to_auto_plots()"
         ]
      }
   ],
   "metadata": {},
   "nbformat": 4,
   "nbformat_minor": 5
}
