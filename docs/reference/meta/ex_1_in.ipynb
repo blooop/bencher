{
 "cells": [
  {
   "cell_type": "markdown",
   "id": "8497d8dc",
   "metadata": {},
   "source": [
    "# 1_in"
   ]
  },
  {
   "cell_type": "code",
   "execution_count": null,
   "id": "77c452fd",
   "metadata": {},
   "outputs": [],
   "source": [
    "\n",
    "\n",
    "import bencher as bch\n",
    "from bencher.example.meta.example_meta import BenchMeta\n",
    "\n",
    "bench = BenchMeta().to_bench(bch.BenchRunCfg())\n",
    "bench.plot_sweep(input_vars=['float1'], const_vars=dict(float_vars=2,level=5))\n",
    "bench.report.show()\n"
   ]
  }
 ],
 "metadata": {},
 "nbformat": 4,
 "nbformat_minor": 5
}
