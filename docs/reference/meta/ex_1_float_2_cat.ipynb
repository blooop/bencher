{
   "cells": [
      {
         "cell_type": "markdown",
         "id": "363ac156",
         "metadata": {},
         "source": [
            "# 1_float_2_cat"
         ]
      },
      {
         "cell_type": "code",
         "execution_count": null,
         "id": "e2e34e38",
         "metadata": {},
         "outputs": [],
         "source": [
            "%%capture\n",
            "import bencher as bch\n",
            "from bencher.example.meta.example_meta import BenchableObject\n",
            "\n",
            "bench = BenchableObject().to_bench(bch.BenchRunCfg(over_time=True))\n",
            "res = bench.plot_sweep(\n",
            "    input_vars=[\"float1\", \"noisy\", \"noise_distribution\"], result_vars=[\"distance\", \"sample_noise\"]\n",
            ")"
         ]
      },
      {
         "cell_type": "code",
         "execution_count": null,
         "id": "b6812383",
         "metadata": {},
         "outputs": [],
         "source": [
            "from bokeh.io import output_notebook\n",
            "\n",
            "output_notebook()\n",
            "res.to_auto_plots()"
         ]
      }
   ],
   "metadata": {},
   "nbformat": 4,
   "nbformat_minor": 5
}
