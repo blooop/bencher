{
 "cells": [
  {
   "cell_type": "markdown",
   "id": "7b0d0937",
   "metadata": {},
   "source": [
    "# 1_float_2_cat"
   ]
  },
  {
   "cell_type": "code",
   "execution_count": null,
   "id": "12f32a87",
   "metadata": {},
   "outputs": [],
   "source": [
    "%%capture\n",
    "import bencher as bch\n",
    "from bencher.example.meta.example_meta import BenchableObject\n",
    "\n",
    "bench = BenchableObject().to_bench(bch.BenchRunCfg())\n",
    "res = bench.plot_sweep(\n",
    "    input_vars=[\"float1\", \"noisy\", \"noise_distribution\"], result_vars=[\"distance\"]\n",
    ")"
   ]
  },
  {
   "cell_type": "code",
   "execution_count": null,
   "id": "a83ffe2f",
   "metadata": {},
   "outputs": [],
   "source": [
    "from bokeh.io import output_notebook\n",
    "\n",
    "output_notebook()\n",
    "res.to_auto_plots()"
   ]
  }
 ],
 "metadata": {},
 "nbformat": 4,
 "nbformat_minor": 5
}
