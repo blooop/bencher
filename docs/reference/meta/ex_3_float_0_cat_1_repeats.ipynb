{
 "cells": [
  {
   "cell_type": "markdown",
   "id": "371bb3d1",
   "metadata": {},
   "source": [
    "# 3_float_0_cat_1_repeats"
   ]
  },
  {
   "cell_type": "code",
   "execution_count": null,
   "id": "dcb1a96e",
   "metadata": {},
   "outputs": [],
   "source": [
    "%%capture\n",
    "import bencher as bch\n",
    "from bencher.example.meta.example_meta import BenchableObject\n",
    "\n",
    "run_cfg = bch.BenchRunCfg()\n",
    "run_cfg.repeats = 1\n",
    "run_cfg.level = 4\n",
    "run_cfg.over_time = True\n",
    "bench = BenchableObject().to_bench(run_cfg)\n",
    "res = bench.plot_sweep(\n",
    "    input_vars=[\"float1\", \"float2\", \"float3\"], result_vars=[\"distance\", \"sample_noise\"]\n",
    ")"
   ]
  },
  {
   "cell_type": "code",
   "execution_count": null,
   "id": "8f9bf26a",
   "metadata": {},
   "outputs": [],
   "source": [
    "from bokeh.io import output_notebook\n",
    "\n",
    "output_notebook()\n",
    "res.to_auto_plots()"
   ]
  }
 ],
 "metadata": {},
 "nbformat": 4,
 "nbformat_minor": 5
}
