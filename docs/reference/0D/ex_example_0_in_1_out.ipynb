{
 "cells": [
  {
   "cell_type": "markdown",
   "id": "81ab2322",
   "metadata": {},
   "source": [
    "# example_0_in_1_out"
   ]
  },
  {
   "cell_type": "code",
   "execution_count": null,
   "id": "91092617",
   "metadata": {},
   "outputs": [],
   "source": [
    "%%capture\n",
    "\"\"\"This file has some examples for how to perform basic benchmarking parameter sweeps\"\"\"\n",
    "\n",
    "import bencher as bch\n",
    "import random\n",
    "\n",
    "\n",
    "class SimpleFloat0D(bch.ParametrizedSweep):\n",
    "    \"\"\"This class has 0 input dimensions and 1 output dimension. It samples from a Gaussian distribution\"\"\"\n",
    "\n",
    "    # This defines a variable that we want to plot\n",
    "    output = bch.ResultVar(units=\"ul\", doc=\"a sample from a gaussian distribution\")\n",
    "\n",
    "    def __call__(self, **kwargs) -> dict:\n",
    "        \"\"\"Generate a sample from a Gaussian distribution\n",
    "\n",
    "        Returns:\n",
    "            dict: a dictionary with all the result variables in the ParametrisedSweep class as named key value pairs.\n",
    "        \"\"\"\n",
    "\n",
    "        self.output = random.gauss(mu=0.0, sigma=1.0)\n",
    "        return super().__call__(**kwargs)\n",
    "\n",
    "\n",
    "def example_0_in_1_out(\n",
    "    run_cfg: bch.BenchRunCfg = None, report: bch.BenchReport = None\n",
    ") -> bch.Bench:\n",
    "    \"\"\"This example shows how to sample a 0-dimensional variable (no input parameters)\n",
    "    and plot the result of that sampling operation.\n",
    "\n",
    "    Args:\n",
    "        run_cfg: Configuration for the benchmark run\n",
    "        report: Report to append the results to\n",
    "\n",
    "    Returns:\n",
    "        bch.Bench: The benchmark object\n",
    "    \"\"\"\n",
    "\n",
    "    bench = SimpleFloat0D().to_bench(run_cfg, report)\n",
    "    bench.plot_sweep()\n",
    "\n",
    "    bench.add(bch.TableResult)\n",
    "    return bench\n",
    "\n",
    "\n",
    "\n",
    "bench=example_0_in_1_out(bch.BenchRunCfg(repeats=100))\n"
   ]
  },
  {
   "cell_type": "code",
   "execution_count": null,
   "id": "5a24dc8f",
   "metadata": {},
   "outputs": [],
   "source": [
    "\n",
    "from bokeh.io import output_notebook\n",
    "output_notebook()\n",
    "bench.report.pane[0]\n"
   ]
  }
 ],
 "metadata": {},
 "nbformat": 4,
 "nbformat_minor": 5
}
