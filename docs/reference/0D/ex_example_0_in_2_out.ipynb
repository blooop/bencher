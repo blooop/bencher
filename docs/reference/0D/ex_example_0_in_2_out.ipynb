{
<<<<<<< HEAD
 "cells": [
  {
   "cell_type": "markdown",
   "id": "452b252e",
   "metadata": {},
   "source": [
    "# example_0_in_2_out"
   ]
  },
  {
   "cell_type": "code",
   "execution_count": null,
   "id": "2f645c07",
   "metadata": {},
   "outputs": [],
   "source": [
    "%%capture\n",
    "\"\"\"This file has some examples for how to perform basic benchmarking parameter sweeps\"\"\"\n",
    "\n",
    "import bencher as bch\n",
    "import random\n",
    "\n",
    "\n",
    "class SimpleFloat0D(bch.ParametrizedSweep):\n",
    "    \"\"\"This class has 0 input dimensions and 2 output dimensions. It samples from Gaussian distributions\"\"\"\n",
    "\n",
    "    # This defines a variable that we want to plot\n",
    "    output1 = bch.ResultVar(units=\"ul\", doc=\"a sample from a gaussian distribution\")\n",
    "    output2 = bch.ResultVar(units=\"ul\", doc=\"a sample from a gaussian distribution\")\n",
    "\n",
    "    def __call__(self, **kwargs) -> dict:\n",
    "        \"\"\"Generate samples from Gaussian distributions\n",
    "\n",
    "        Returns:\n",
    "            dict: a dictionary with all the result variables in the ParametrisedSweep class as named key value pairs.\n",
    "        \"\"\"\n",
    "\n",
    "        self.output1 = random.gauss(mu=0.0, sigma=1.0)\n",
    "        self.output2 = random.gauss(mu=2.0, sigma=5.0)\n",
    "        return super().__call__(**kwargs)\n",
    "\n",
    "\n",
    "def example_0_in_2_out(\n",
    "    run_cfg: bch.BenchRunCfg = None, report: bch.BenchReport = None\n",
    ") -> bch.Bench:\n",
    "    \"\"\"This example shows how to sample a 0-dimensional variable (no input parameters)\n",
    "    that produces two output values and plot the results.\n",
    "\n",
    "    Args:\n",
    "        run_cfg: Configuration for the benchmark run\n",
    "        report: Report to append the results to\n",
    "\n",
    "    Returns:\n",
    "        bch.Bench: The benchmark object\n",
    "    \"\"\"\n",
    "\n",
    "    bench = SimpleFloat0D().to_bench(run_cfg, report)\n",
    "    bench.plot_sweep()\n",
    "    return bench\n",
    "\n",
    "\n",
    "bench = example_0_in_2_out(bch.BenchRunCfg(repeats=100))"
   ]
  },
  {
   "cell_type": "code",
   "execution_count": null,
   "id": "f554e4e3",
   "metadata": {},
   "outputs": [],
   "source": [
    "from bokeh.io import output_notebook\n",
    "\n",
    "output_notebook()\n",
    "bench.get_result().to_auto_plots()"
   ]
  }
 ],
 "metadata": {},
 "nbformat": 4,
 "nbformat_minor": 5
=======
   "cells": [
      {
         "cell_type": "markdown",
         "id": "37fe1a5d",
         "metadata": {},
         "source": [
            "# example_0_in_2_out"
         ]
      },
      {
         "cell_type": "code",
         "execution_count": null,
         "id": "a9dd2394",
         "metadata": {},
         "outputs": [],
         "source": [
            "%%capture\n",
            "\"\"\"This file has some examples for how to perform basic benchmarking parameter sweeps\"\"\"\n",
            "\n",
            "import bencher as bch\n",
            "import random\n",
            "\n",
            "\n",
            "class SimpleFloat0D(bch.ParametrizedSweep):\n",
            "    \"\"\"This class has 0 input dimensions and 2 output dimensions. It samples from Gaussian distributions\"\"\"\n",
            "\n",
            "    # This defines a variable that we want to plot\n",
            "    output1 = bch.ResultVar(units=\"ul\", doc=\"a sample from a gaussian distribution\")\n",
            "    output2 = bch.ResultVar(units=\"ul\", doc=\"a sample from a gaussian distribution\")\n",
            "\n",
            "    def __call__(self, **kwargs) -> dict:\n",
            "        \"\"\"Generate samples from Gaussian distributions\n",
            "\n",
            "        Returns:\n",
            "            dict: a dictionary with all the result variables in the ParametrisedSweep class as named key value pairs.\n",
            "        \"\"\"\n",
            "\n",
            "        self.output1 = random.gauss(mu=0.0, sigma=1.0)\n",
            "        self.output2 = random.gauss(mu=2.0, sigma=5.0)\n",
            "        return super().__call__(**kwargs)\n",
            "\n",
            "\n",
            "def example_0_in_2_out(\n",
            "    run_cfg: bch.BenchRunCfg = None, report: bch.BenchReport = None\n",
            ") -> bch.Bench:\n",
            "    \"\"\"This example shows how to sample a 0-dimensional variable (no input parameters)\n",
            "    that produces two output values and plot the results.\n",
            "\n",
            "    Args:\n",
            "        run_cfg: Configuration for the benchmark run\n",
            "        report: Report to append the results to\n",
            "\n",
            "    Returns:\n",
            "        bch.Bench: The benchmark object\n",
            "    \"\"\"\n",
            "\n",
            "    bench = SimpleFloat0D().to_bench(run_cfg, report)\n",
            "    bench.plot_sweep()\n",
            "    return bench\n",
            "\n",
            "\n",
            "bench = example_0_in_2_out(bch.BenchRunCfg(repeats=100))"
         ]
      },
      {
         "cell_type": "code",
         "execution_count": null,
         "id": "e9f9b255",
         "metadata": {},
         "outputs": [],
         "source": [
            "from bokeh.io import output_notebook\n",
            "\n",
            "output_notebook()\n",
            "bench.get_result().to_auto_plots()"
         ]
      }
   ],
   "metadata": {},
   "nbformat": 4,
   "nbformat_minor": 5
>>>>>>> origin/main
}
