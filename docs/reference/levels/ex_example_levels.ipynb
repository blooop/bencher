{
 "cells": [
  {
   "cell_type": "markdown",
   "id": "e26990be",
   "metadata": {},
   "source": [
    "# example_levels"
   ]
  },
  {
   "cell_type": "code",
   "execution_count": null,
   "id": "a967a03a",
   "metadata": {},
   "outputs": [],
   "source": [
    "%%capture\n",
    "import bencher as bch\n",
    "from bencher.example.meta.example_meta import BenchMeta\n",
    "\n",
    "\n",
    "def example_levels(run_cfg: bch.BenchRunCfg = None, report: bch.BenchReport = None) -> bch.Bench:\n",
    "    bench = BenchMeta().to_bench(run_cfg, report)\n",
    "\n",
    "    bench.plot_sweep(\n",
    "        title=\"Using Levels to define sample density\",\n",
    "        description=\"Sample levels let you perform parameter sweeps without having to decide how many samples to take when defining the class.  If you perform a sweep at level 2, then all the points are reused when sampling at level 3.  The higher levels reuse the points from lower levels to avoid having to recompute potentially expensive samples. The other advantage is that it enables a workflow where you can quickly see the results of the sweep at a low resolution to sense check the code, and then run it at a high level to get the fidelity you want.  When calling a sweep at a high level, you can publish the intermediate lower level results as the computiation continues so that you can track the progress of the computation and end the sweep early when you have sufficient resolution\",\n",
    "        input_vars=[\n",
    "            bch.p(\"float_vars\", [1, 2]),\n",
    "            bch.p(\"level\", [2, 3, 4, 5]),\n",
    "        ],\n",
    "        const_vars=[\n",
    "            BenchMeta.param.categorical_vars.with_const(0),\n",
    "        ],\n",
    "    )\n",
    "    return bench\n",
    "\n",
    "\n",
    "bench = example_levels()"
   ]
  },
  {
   "cell_type": "code",
   "execution_count": null,
   "id": "9f399d3b",
   "metadata": {},
   "outputs": [],
   "source": [
    "from bokeh.io import output_notebook\n",
    "\n",
    "output_notebook()\n",
    "bench.report.pane"
   ]
  }
 ],
 "metadata": {},
 "nbformat": 4,
 "nbformat_minor": 5
}
