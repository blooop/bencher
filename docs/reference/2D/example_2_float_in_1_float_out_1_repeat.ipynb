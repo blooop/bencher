{
 "cells": [
  {
   "cell_type": "markdown",
   "metadata": {},
   "source": [
    "# Example 2 Float input and 1 Float output\n"
   ]
  },
  {
   "cell_type": "code",
   "execution_count": 1,
   "metadata": {},
   "outputs": [],
   "source": [
    "%%capture\n",
    "import math\n",
    "import bencher as bch\n",
    "\n",
    "class SimpleFloat(bch.ParametrizedSweep):\n",
    "    theta = bch.FloatSweep(\n",
    "        default=0, bounds=[0, math.pi], doc=\"Input angle\", units=\"rad\", samples=30\n",
    "    )\n",
    "    offset = bch.FloatSweep(default=0, bounds=[0, 1], doc=\"Input angle\", units=\"rad\")\n",
    "    out_sin = bch.ResultVar(units=\"v\", doc=\"sin of theta\")\n",
    "\n",
    "    def __call__(self, **kwargs):\n",
    "        self.update_params_from_kwargs(**kwargs)\n",
    "        self.out_sin = math.sin(self.theta) + self.offset\n",
    "        return super().__call__(**kwargs)\n",
    "\n",
    "bench = SimpleFloat().to_bench(bch.BenchRunCfg(repeats=4))\n",
    "res = bench.plot_sweep()"
   ]
  },
  {
   "cell_type": "code",
   "execution_count": null,
   "metadata": {},
   "outputs": [],
   "source": [
    "from bokeh.io import output_notebook\n",
    "output_notebook()\n",
    "res.to_auto_plots()"
   ]
  }
 ],
 "metadata": {
  "kernelspec": {
   "display_name": "default",
   "language": "python",
   "name": "python3"
  },
  "language_info": {
   "codemirror_mode": {
    "name": "ipython",
    "version": 3
   },
   "file_extension": ".py",
   "mimetype": "text/x-python",
   "name": "python",
   "nbconvert_exporter": "python",
   "pygments_lexer": "ipython3",
   "version": "3.10.16"
  }
 },
 "nbformat": 4,
 "nbformat_minor": 4
}
