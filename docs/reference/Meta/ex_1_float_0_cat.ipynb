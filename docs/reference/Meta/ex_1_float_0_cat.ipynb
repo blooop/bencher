{
 "cells": [
  {
   "cell_type": "markdown",
<<<<<<<< HEAD:docs/reference/Meta/ex_0_float_0_cat_1_repeats.ipynb
   "id": "7969834a",
========
   "id": "f54ef2ce",
>>>>>>>> feature/scrolling:docs/reference/Meta/ex_1_float_0_cat.ipynb
   "metadata": {},
   "source": [
    "# 0_float_0_cat_1_repeats"
   ]
  },
  {
   "cell_type": "code",
   "execution_count": null,
<<<<<<<< HEAD:docs/reference/Meta/ex_0_float_0_cat_1_repeats.ipynb
   "id": "55eb1809",
========
   "id": "a1f1b15d",
>>>>>>>> feature/scrolling:docs/reference/Meta/ex_1_float_0_cat.ipynb
   "metadata": {},
   "outputs": [],
   "source": [
    "\n",
    "%%capture\n",
    "import bencher as bch\n",
    "from bencher.example.meta.example_meta import BenchableObject\n",
    "\n",
    "run_cfg = bch.BenchRunCfg()\n",
    "run_cfg.repeats = 1\n",
    "run_cfg.level = 4 \n",
    "run_cfg.over_time = False\n",
    "bench = BenchableObject().to_bench(run_cfg)\n",
    "res=bench.plot_sweep(input_vars=[],\n",
    "                    result_vars=[\"distance\",\"sample_noise\"])\n"
   ]
  },
  {
   "cell_type": "code",
   "execution_count": null,
<<<<<<<< HEAD:docs/reference/Meta/ex_0_float_0_cat_1_repeats.ipynb
   "id": "a8df8f9d",
========
   "id": "5551a5ed",
>>>>>>>> feature/scrolling:docs/reference/Meta/ex_1_float_0_cat.ipynb
   "metadata": {},
   "outputs": [],
   "source": [
    "\n",
    "from bokeh.io import output_notebook\n",
    "output_notebook()\n",
    "res.to_auto_plots()\n"
   ]
  }
 ],
 "metadata": {},
 "nbformat": 4,
 "nbformat_minor": 5
}