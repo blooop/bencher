{
 "cells": [
  {
   "cell_type": "markdown",
   "id": "0d122701",
   "metadata": {},
   "source": [
    "# 1_float_0_cat"
   ]
  },
  {
   "cell_type": "code",
   "execution_count": null,
   "id": "d313db44",
   "metadata": {},
   "outputs": [],
   "source": [
    "%%capture\n",
    "import bencher as bch\n",
    "from bencher.example.meta.example_meta import BenchableObject\n",
    "\n",
    "run_cfg = bch.BenchRunCfg()\n",
    "run_cfg.repeats = 20\n",
    "run_cfg.level = 4\n",
    "bench = BenchableObject().to_bench(run_cfg)\n",
    "res = bench.plot_sweep(input_vars=[\"float1\"], result_vars=[\"distance\", \"sample_noise\"])"
   ]
  },
  {
   "cell_type": "code",
   "execution_count": null,
   "id": "2db88731",
   "metadata": {},
   "outputs": [],
   "source": [
    "from bokeh.io import output_notebook\n",
    "\n",
    "output_notebook()\n",
    "res.to_auto_plots()"
   ]
  }
 ],
 "metadata": {},
 "nbformat": 4,
 "nbformat_minor": 5
}
