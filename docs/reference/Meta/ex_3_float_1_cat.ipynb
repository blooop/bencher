{
 "cells": [
  {
   "cell_type": "markdown",
<<<<<<<< HEAD:docs/reference/Meta/ex_1_float_2_cat_20_repeats_over_time.ipynb
   "id": "57a0c14a",
========
   "id": "55312f52",
>>>>>>>> feature/scrolling:docs/reference/Meta/ex_3_float_1_cat.ipynb
   "metadata": {},
   "source": [
    "# 1_float_2_cat_20_repeats_over_time"
   ]
  },
  {
   "cell_type": "code",
   "execution_count": null,
<<<<<<<< HEAD:docs/reference/Meta/ex_1_float_2_cat_20_repeats_over_time.ipynb
   "id": "7831ba85",
========
   "id": "7047739b",
>>>>>>>> feature/scrolling:docs/reference/Meta/ex_3_float_1_cat.ipynb
   "metadata": {},
   "outputs": [],
   "source": [
    "%%capture\n",
    "import bencher as bch\n",
    "from bencher.example.meta.example_meta import BenchableObject\n",
    "\n",
    "run_cfg = bch.BenchRunCfg()\n",
    "run_cfg.repeats = 20\n",
    "run_cfg.level = 4\n",
    "run_cfg.over_time = True\n",
    "bench = BenchableObject().to_bench(run_cfg)\n",
    "res = bench.plot_sweep(\n",
    "    input_vars=[\"float1\", \"noisy\", \"noise_distribution\"], result_vars=[\"distance\", \"sample_noise\"]\n",
    ")"
   ]
  },
  {
   "cell_type": "code",
   "execution_count": null,
<<<<<<<< HEAD:docs/reference/Meta/ex_1_float_2_cat_20_repeats_over_time.ipynb
   "id": "a588d0f1",
========
   "id": "402cc79d",
>>>>>>>> feature/scrolling:docs/reference/Meta/ex_3_float_1_cat.ipynb
   "metadata": {},
   "outputs": [],
   "source": [
    "from bokeh.io import output_notebook\n",
    "\n",
    "output_notebook()\n",
    "res.to_auto_plots()"
   ]
  }
 ],
 "metadata": {},
 "nbformat": 4,
 "nbformat_minor": 5
}
