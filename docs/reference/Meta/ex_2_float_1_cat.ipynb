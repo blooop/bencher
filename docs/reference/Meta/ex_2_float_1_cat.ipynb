{
   "cells": [
      {
         "cell_type": "markdown",
         "id": "35b2bc50",
         "metadata": {},
         "source": [
            "# 2_float_1_cat"
         ]
      },
      {
         "cell_type": "code",
         "execution_count": null,
         "id": "d76eea8c",
         "metadata": {},
         "outputs": [],
         "source": [
            "\n",
            "%%capture\n",
            "import bencher as bch\n",
            "from bencher.example.meta.example_meta import BenchableObject\n",
            "\n",
            "run_cfg = bch.BenchRunCfg()\n",
            "run_cfg.repeats = 20\n",
            "run_cfg.level = 4 \n",
            "bench = BenchableObject().to_bench(run_cfg)\n",
            "res=bench.plot_sweep(input_vars=['float1', 'float2', 'noisy'],\n",
            "                    result_vars=[\"distance\",\"sample_noise\"])\n"
         ]
      },
      {
         "cell_type": "code",
         "execution_count": null,
         "id": "37f8f4a9",
         "metadata": {},
         "outputs": [],
         "source": [
            "\n",
            "from bokeh.io import output_notebook\n",
            "output_notebook()\n",
            "res.to_auto_plots()\n"
         ]
      }
   ],
   "metadata": {},
   "nbformat": 4,
   "nbformat_minor": 5
}