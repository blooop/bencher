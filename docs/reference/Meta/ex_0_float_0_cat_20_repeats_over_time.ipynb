{
 "cells": [
  {
   "cell_type": "markdown",
   "id": "9b7d7736",
   "metadata": {},
   "source": [
    "# 0_float_0_cat_20_repeats_over_time"
   ]
  },
  {
   "cell_type": "code",
   "execution_count": null,
   "id": "332740a2",
   "metadata": {},
   "outputs": [],
   "source": [
    "\n",
    "%%capture\n",
    "import bencher as bch\n",
    "\n",
    "from bencher.example.meta.example_meta import BenchableObject\n",
    "\n",
    "run_cfg = bch.BenchRunCfg()\n",
    "run_cfg.repeats = 20\n",
    "run_cfg.level = 4 \n",
    "run_cfg.over_time = True\n",
    "bench = BenchableObject().to_bench(run_cfg)\n",
    "res=bench.plot_sweep(input_vars=[],\n",
    "                    result_vars=['distance', 'sample_noise'])\n"
   ]
  },
  {
   "cell_type": "code",
   "execution_count": null,
   "id": "b04441ef",
   "metadata": {},
   "outputs": [],
   "source": [
    "\n",
    "from bokeh.io import output_notebook\n",
    "output_notebook()\n",
    "res.to_auto_plots()\n"
   ]
  }
 ],
 "metadata": {},
 "nbformat": 4,
 "nbformat_minor": 5
}