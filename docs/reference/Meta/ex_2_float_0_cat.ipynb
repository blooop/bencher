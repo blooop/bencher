{
 "cells": [
  {
   "cell_type": "markdown",
   "id": "66adeed1",
   "metadata": {},
   "source": [
    "# 2_float_0_cat"
   ]
  },
  {
   "cell_type": "code",
   "execution_count": null,
   "id": "a135d9ed",
   "metadata": {},
   "outputs": [],
   "source": [
    "\n",
    "%%capture\n",
    "import bencher as bch\n",
    "\n",
    "from bencher.example.meta.example_meta import BenchableObject\n",
    "\n",
    "run_cfg = bch.BenchRunCfg()\n",
    "run_cfg.repeats = 1\n",
    "run_cfg.level = 4 \n",
    "bench = BenchableObject().to_bench(run_cfg)\n",
    "res=bench.plot_sweep(input_vars=['float1', 'float2'],\n",
    "                    result_vars=['distance', 'sample_noise', 'is_far_from_origin'])\n"
   ]
  },
  {
   "cell_type": "code",
   "execution_count": null,
   "id": "cd7f13cd",
   "metadata": {},
   "outputs": [],
   "source": [
    "\n",
    "from bokeh.io import output_notebook\n",
    "output_notebook()\n",
    "res.to_auto_plots()\n"
   ]
  }
 ],
 "metadata": {},
 "nbformat": 4,
 "nbformat_minor": 5
}