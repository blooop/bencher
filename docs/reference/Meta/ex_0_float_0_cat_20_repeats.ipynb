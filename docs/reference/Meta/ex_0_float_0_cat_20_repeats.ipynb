{
 "cells": [
  {
   "cell_type": "markdown",
<<<<<<<< HEAD:docs/reference/Meta/ex_0_float_0_cat_20_repeats.ipynb
   "id": "5762bd63",
========
   "id": "a3fae4b8",
>>>>>>>> feature/scrolling:docs/reference/Meta/ex_0_float_0_cat.ipynb
   "metadata": {},
   "source": [
    "# 0_float_0_cat_20_repeats"
   ]
  },
  {
   "cell_type": "code",
   "execution_count": null,
<<<<<<<< HEAD:docs/reference/Meta/ex_0_float_0_cat_20_repeats.ipynb
   "id": "bbead26e",
========
   "id": "61e09c74",
>>>>>>>> feature/scrolling:docs/reference/Meta/ex_0_float_0_cat.ipynb
   "metadata": {},
   "outputs": [],
   "source": [
    "%%capture\n",
    "import bencher as bch\n",
    "from bencher.example.meta.example_meta import BenchableObject\n",
    "\n",
    "run_cfg = bch.BenchRunCfg()\n",
    "run_cfg.repeats = 20\n",
    "run_cfg.level = 4\n",
    "run_cfg.over_time = False\n",
    "bench = BenchableObject().to_bench(run_cfg)\n",
    "res = bench.plot_sweep(input_vars=[], result_vars=[\"distance\", \"sample_noise\"])"
   ]
  },
  {
   "cell_type": "code",
   "execution_count": null,
<<<<<<<< HEAD:docs/reference/Meta/ex_0_float_0_cat_20_repeats.ipynb
   "id": "8e630fac",
========
   "id": "850a8593",
>>>>>>>> feature/scrolling:docs/reference/Meta/ex_0_float_0_cat.ipynb
   "metadata": {},
   "outputs": [],
   "source": [
    "from bokeh.io import output_notebook\n",
    "\n",
    "output_notebook()\n",
    "res.to_auto_plots()"
   ]
  }
 ],
 "metadata": {},
 "nbformat": 4,
 "nbformat_minor": 5
}
