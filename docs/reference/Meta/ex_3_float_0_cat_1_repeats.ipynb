{
 "cells": [
  {
   "cell_type": "markdown",
   "id": "fa073809",
   "metadata": {},
   "source": [
    "# 3_float_0_cat_1_repeats"
   ]
  },
  {
   "cell_type": "code",
   "execution_count": null,
   "id": "e0329f74",
   "metadata": {},
   "outputs": [],
   "source": [
    "\n",
    "%%capture\n",
    "import bencher as bch\n",
    "\n",
    "from bencher.example.meta.example_meta import BenchableObject\n",
    "\n",
    "run_cfg = bch.BenchRunCfg()\n",
    "run_cfg.repeats = 1\n",
    "run_cfg.level = 4 \n",
    "run_cfg.over_time = False\n",
    "bench = BenchableObject().to_bench(run_cfg)\n",
    "res=bench.plot_sweep(input_vars=['float1', 'float2', {'name': 'float3', 'values': None, 'max_level': 3, 'samples': None}],\n",
    "                    result_vars=['distance', 'sample_noise'])\n"
   ]
  },
  {
   "cell_type": "code",
   "execution_count": null,
   "id": "3dbd2b4e",
   "metadata": {},
   "outputs": [],
   "source": [
    "\n",
    "from bokeh.io import output_notebook\n",
    "output_notebook()\n",
    "res.to_auto_plots()\n"
   ]
  }
 ],
 "metadata": {},
 "nbformat": 4,
 "nbformat_minor": 5
}