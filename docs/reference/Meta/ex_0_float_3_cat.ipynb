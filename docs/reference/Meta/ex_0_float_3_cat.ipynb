{
 "cells": [
  {
   "cell_type": "markdown",
<<<<<<<< HEAD:docs/reference/Meta/ex_0_float_0_cat_20_repeats_over_time.ipynb
   "id": "4dfce5e3",
========
   "id": "336d306e",
>>>>>>>> feature/scrolling:docs/reference/Meta/ex_0_float_3_cat.ipynb
   "metadata": {},
   "source": [
    "# 0_float_0_cat_20_repeats_over_time"
   ]
  },
  {
   "cell_type": "code",
   "execution_count": null,
<<<<<<<< HEAD:docs/reference/Meta/ex_0_float_0_cat_20_repeats_over_time.ipynb
   "id": "78b0ffaa",
========
   "id": "cfb17ef6",
>>>>>>>> feature/scrolling:docs/reference/Meta/ex_0_float_3_cat.ipynb
   "metadata": {},
   "outputs": [],
   "source": [
    "\n",
    "%%capture\n",
    "import bencher as bch\n",
    "from bencher.example.meta.example_meta import BenchableObject\n",
    "\n",
    "run_cfg = bch.BenchRunCfg()\n",
    "run_cfg.repeats = 20\n",
    "run_cfg.level = 4 \n",
    "run_cfg.over_time = True\n",
    "bench = BenchableObject().to_bench(run_cfg)\n",
    "res=bench.plot_sweep(input_vars=[],\n",
    "                    result_vars=[\"distance\",\"sample_noise\"])\n"
   ]
  },
  {
   "cell_type": "code",
   "execution_count": null,
<<<<<<<< HEAD:docs/reference/Meta/ex_0_float_0_cat_20_repeats_over_time.ipynb
   "id": "de9cd97e",
========
   "id": "52ff438d",
>>>>>>>> feature/scrolling:docs/reference/Meta/ex_0_float_3_cat.ipynb
   "metadata": {},
   "outputs": [],
   "source": [
    "\n",
    "from bokeh.io import output_notebook\n",
    "output_notebook()\n",
    "res.to_auto_plots()\n"
   ]
  }
 ],
 "metadata": {},
 "nbformat": 4,
 "nbformat_minor": 5
}