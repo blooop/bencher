{
 "cells": [
  {
   "cell_type": "markdown",
<<<<<<<< HEAD:docs/reference/Meta/ex_1_float_0_cat_20_repeats.ipynb
   "id": "f4d74beb",
========
   "id": "60b5e753",
>>>>>>>> feature/scrolling:docs/reference/Meta/ex_0_float_2_cat.ipynb
   "metadata": {},
   "source": [
    "# 1_float_0_cat_20_repeats"
   ]
  },
  {
   "cell_type": "code",
   "execution_count": null,
<<<<<<<< HEAD:docs/reference/Meta/ex_1_float_0_cat_20_repeats.ipynb
   "id": "f58f10f0",
========
   "id": "3305f03e",
>>>>>>>> feature/scrolling:docs/reference/Meta/ex_0_float_2_cat.ipynb
   "metadata": {},
   "outputs": [],
   "source": [
    "\n",
    "%%capture\n",
    "import bencher as bch\n",
    "from bencher.example.meta.example_meta import BenchableObject\n",
    "\n",
    "run_cfg = bch.BenchRunCfg()\n",
    "run_cfg.repeats = 20\n",
    "run_cfg.level = 4 \n",
    "run_cfg.over_time = False\n",
    "bench = BenchableObject().to_bench(run_cfg)\n",
    "res=bench.plot_sweep(input_vars=['float1'],\n",
    "                    result_vars=[\"distance\",\"sample_noise\"])\n"
   ]
  },
  {
   "cell_type": "code",
   "execution_count": null,
<<<<<<<< HEAD:docs/reference/Meta/ex_1_float_0_cat_20_repeats.ipynb
   "id": "f056b932",
========
   "id": "9d437cb6",
>>>>>>>> feature/scrolling:docs/reference/Meta/ex_0_float_2_cat.ipynb
   "metadata": {},
   "outputs": [],
   "source": [
    "\n",
    "from bokeh.io import output_notebook\n",
    "output_notebook()\n",
    "res.to_auto_plots()\n"
   ]
  }
 ],
 "metadata": {},
 "nbformat": 4,
 "nbformat_minor": 5
}