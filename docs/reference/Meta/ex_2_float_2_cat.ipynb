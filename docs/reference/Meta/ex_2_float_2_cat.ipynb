{
 "cells": [
  {
   "cell_type": "markdown",
<<<<<<<< HEAD:docs/reference/Meta/ex_2_float_2_cat_20_repeats.ipynb
   "id": "92b7cc06",
========
   "id": "e9cc53e2",
>>>>>>>> feature/scrolling:docs/reference/Meta/ex_2_float_2_cat.ipynb
   "metadata": {},
   "source": [
    "# 2_float_2_cat_20_repeats"
   ]
  },
  {
   "cell_type": "code",
   "execution_count": null,
<<<<<<<< HEAD:docs/reference/Meta/ex_2_float_2_cat_20_repeats.ipynb
   "id": "2a78ebe6",
========
   "id": "4df541db",
>>>>>>>> feature/scrolling:docs/reference/Meta/ex_2_float_2_cat.ipynb
   "metadata": {},
   "outputs": [],
   "source": [
    "%%capture\n",
    "import bencher as bch\n",
    "from bencher.example.meta.example_meta import BenchableObject\n",
    "\n",
    "run_cfg = bch.BenchRunCfg()\n",
    "run_cfg.repeats = 20\n",
    "run_cfg.level = 4\n",
    "run_cfg.over_time = False\n",
    "bench = BenchableObject().to_bench(run_cfg)\n",
    "res = bench.plot_sweep(\n",
    "    input_vars=[\"float1\", \"float2\", \"noisy\", \"noise_distribution\"],\n",
    "    result_vars=[\"distance\", \"sample_noise\"],\n",
    ")"
   ]
  },
  {
   "cell_type": "code",
   "execution_count": null,
<<<<<<<< HEAD:docs/reference/Meta/ex_2_float_2_cat_20_repeats.ipynb
   "id": "05cf48b3",
========
   "id": "b063c4f1",
>>>>>>>> feature/scrolling:docs/reference/Meta/ex_2_float_2_cat.ipynb
   "metadata": {},
   "outputs": [],
   "source": [
    "from bokeh.io import output_notebook\n",
    "\n",
    "output_notebook()\n",
    "res.to_auto_plots()"
   ]
  }
 ],
 "metadata": {},
 "nbformat": 4,
 "nbformat_minor": 5
}
