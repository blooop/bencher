{
 "cells": [
  {
   "cell_type": "markdown",
   "id": "1a176262",
   "metadata": {},
   "source": [
    "# example_pareto"
   ]
  },
  {
   "cell_type": "code",
   "execution_count": null,
   "id": "d412b364",
   "metadata": {},
   "outputs": [],
   "source": [
    "%%capture\n",
    "# pylint: disable=duplicate-code\n",
    "\n",
    "import bencher as bch\n",
    "\n",
    "# All the examples will be using the data structures and benchmark function defined in this file\n",
    "from bencher.example.benchmark_data import ExampleBenchCfgIn, ExampleBenchCfgOut, bench_function\n",
    "\n",
    "\n",
    "def example_pareto(run_cfg: bch.BenchRunCfg = None, report: bch.BenchReport = None) -> bch.Bench:\n",
    "    \"\"\"Example of how to calculate the pareto front of a parameter sweep\n",
    "\n",
    "    Args:\n",
    "        run_cfg (BenchRunCfg): configuration of how to perform the param sweep\n",
    "\n",
    "    Returns:\n",
    "        Bench: results of the parameter sweep\n",
    "    \"\"\"\n",
    "    run_cfg.use_optuna = True\n",
    "\n",
    "    bench = bch.Bench(\n",
    "        \"Multi-objective optimisation\",\n",
    "        bench_function,\n",
    "        ExampleBenchCfgIn,\n",
    "        run_cfg=run_cfg,\n",
    "        report=report,\n",
    "    )\n",
    "\n",
    "    res = bench.plot_sweep(\n",
    "        title=\"Pareto Optimisation with Optuna\",\n",
    "        description=\"This example shows how to plot the pareto front of the tradeoff between multiple criteria.  When multiple result variable are defined, and use_optuna=True a pareto plot and the relative importance of each input variable on the output criteria is plotted. A summary of the points on the pareto front is printed as well.  You can use the pareto plot to decide the how to trade off one objective for another.  Pareto plots are supported for 2D and 3D.  If you have more than 3 result variables the first 3 are selected for the pareto plot.  Plotting 4D surfaces is left as an exercise to the reader\",\n",
    "        input_vars=[\n",
    "            ExampleBenchCfgIn.param.theta,\n",
    "            ExampleBenchCfgIn.param.offset,\n",
    "        ],\n",
    "        result_vars=[ExampleBenchCfgOut.param.out_sin, ExampleBenchCfgOut.param.out_cos],\n",
    "        const_vars=ExampleBenchCfgIn.get_input_defaults(\n",
    "            [ExampleBenchCfgIn.param.noisy.with_const(True)]\n",
    "        ),\n",
    "        post_description=\"\"\"# Post Description \n",
    "This is a slightly unusual way of doing pareto optimisation as we are not using a typical multi-objective optimisation algorithm [TODO, add example].  Instead we are performing a grid search and looking at the resulting pareto plot.  The reason for doing a grid search instead of standard pareto optimisation is that we can produce more isolated plots of how an input affects an output which can help understanding of the parameter space.  Future examples will show how to use grid search to bootstrap further optimisation with a multi objective optimiser\"\"\",\n",
    "    )\n",
    "\n",
    "    bench.report.append(res.to_optuna_plots())\n",
    "    return bench\n",
    "\n",
    "\n",
    "bench = example_pareto()"
   ]
  },
  {
   "cell_type": "code",
   "execution_count": null,
   "id": "530c694f",
   "metadata": {},
   "outputs": [],
   "source": [
    "from bokeh.io import output_notebook\n",
    "\n",
    "output_notebook()\n",
    "bench.get_result().to_auto_plots()"
   ]
  }
 ],
 "metadata": {},
 "nbformat": 4,
 "nbformat_minor": 5
}
